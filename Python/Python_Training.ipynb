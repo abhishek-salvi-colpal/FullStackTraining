{
  "nbformat": 4,
  "nbformat_minor": 0,
  "metadata": {
    "colab": {
      "name": "Python_Training.ipynb",
      "provenance": []
    },
    "kernelspec": {
      "name": "python3",
      "display_name": "Python 3"
    }
  },
  "cells": [
    {
      "cell_type": "code",
      "metadata": {
        "id": "3eH2L_MIWcyL",
        "colab_type": "code",
        "colab": {
          "base_uri": "https://localhost:8080/",
          "height": 35
        },
        "outputId": "5b1bb7dc-470b-421c-a7ef-9abd7d76d86b"
      },
      "source": [
        " x = \"Python\"\n",
        " y = True\n",
        " \n",
        " type(y)"
      ],
      "execution_count": 3,
      "outputs": [
        {
          "output_type": "execute_result",
          "data": {
            "text/plain": [
              "bool"
            ]
          },
          "metadata": {
            "tags": []
          },
          "execution_count": 3
        }
      ]
    },
    {
      "cell_type": "code",
      "metadata": {
        "id": "kdbZrPDBYEVs",
        "colab_type": "code",
        "colab": {
          "base_uri": "https://localhost:8080/",
          "height": 35
        },
        "outputId": "80c1be4a-3585-4718-f753-8f759458472f"
      },
      "source": [
        "\"Concating numbers\"\n",
        "\n",
        "z = x + str(1)\n",
        "print(z)"
      ],
      "execution_count": 14,
      "outputs": [
        {
          "output_type": "stream",
          "text": [
            "Python1\n"
          ],
          "name": "stdout"
        }
      ]
    },
    {
      "cell_type": "code",
      "metadata": {
        "id": "5oDWdUUPYZab",
        "colab_type": "code",
        "colab": {
          "base_uri": "https://localhost:8080/",
          "height": 35
        },
        "outputId": "70ff5b5e-e56c-4bc9-ad10-276c39ff9d9b"
      },
      "source": [
        "\"Adding Numbers\"\n",
        "\n",
        "a = 2456\n",
        "b = 1000\n",
        "c = a+b\n",
        "print(c)"
      ],
      "execution_count": 10,
      "outputs": [
        {
          "output_type": "stream",
          "text": [
            "3456\n"
          ],
          "name": "stdout"
        }
      ]
    },
    {
      "cell_type": "code",
      "metadata": {
        "id": "HTkV6BTuYsye",
        "colab_type": "code",
        "colab": {
          "base_uri": "https://localhost:8080/",
          "height": 35
        },
        "outputId": "b198d032-dfa0-4d3a-dc35-8d6e7ce4fa7a"
      },
      "source": [
        "\"Complex Numbers\"\n",
        "\n",
        "xi = 1.0 -1.0j\n",
        "type(xi)\n",
        "print(xi.real, xi.imag)"
      ],
      "execution_count": 12,
      "outputs": [
        {
          "output_type": "stream",
          "text": [
            "1.0 -1.0\n"
          ],
          "name": "stdout"
        }
      ]
    },
    {
      "cell_type": "code",
      "metadata": {
        "id": "EUUyRkD9ZIAv",
        "colab_type": "code",
        "colab": {
          "base_uri": "https://localhost:8080/",
          "height": 35
        },
        "outputId": "eb63088b-6f8f-4a26-f779-714e47c98144"
      },
      "source": [
        "print(x,y,a,b,c,xi)"
      ],
      "execution_count": 13,
      "outputs": [
        {
          "output_type": "stream",
          "text": [
            "Python True 2456 1000 3456 (1-1j)\n"
          ],
          "name": "stdout"
        }
      ]
    },
    {
      "cell_type": "code",
      "metadata": {
        "id": "JUyrcnIMaCxf",
        "colab_type": "code",
        "colab": {
          "base_uri": "https://localhost:8080/",
          "height": 35
        },
        "outputId": "49f740d1-5e34-46ba-8413-acd990f87c28"
      },
      "source": [
        "type(str(\"1\"))"
      ],
      "execution_count": 15,
      "outputs": [
        {
          "output_type": "execute_result",
          "data": {
            "text/plain": [
              "str"
            ]
          },
          "metadata": {
            "tags": []
          },
          "execution_count": 15
        }
      ]
    },
    {
      "cell_type": "code",
      "metadata": {
        "id": "FX7rCMVQaeOo",
        "colab_type": "code",
        "colab": {
          "base_uri": "https://localhost:8080/",
          "height": 52
        },
        "outputId": "17cdd934-4cf4-4165-d46f-2c947e8a10b5"
      },
      "source": [
        "print(True and False)\n",
        "print(True or False)"
      ],
      "execution_count": 20,
      "outputs": [
        {
          "output_type": "stream",
          "text": [
            "False\n",
            "True\n"
          ],
          "name": "stdout"
        }
      ]
    },
    {
      "cell_type": "code",
      "metadata": {
        "id": "mbV8BKgAa0n_",
        "colab_type": "code",
        "colab": {
          "base_uri": "https://localhost:8080/",
          "height": 35
        },
        "outputId": "446a982d-c61a-4c28-c9b0-e7bd08695fcb"
      },
      "source": [
        "al = 7\n",
        "bl = 12\n",
        "cl = 17\n",
        "\n",
        "if al > bl:\n",
        "  if al > cl:\n",
        "    print(al)\n",
        "elif bl > cl:\n",
        "  print(bl)\n",
        "else:\n",
        "  print(cl)\n"
      ],
      "execution_count": 25,
      "outputs": [
        {
          "output_type": "stream",
          "text": [
            "17\n"
          ],
          "name": "stdout"
        }
      ]
    },
    {
      "cell_type": "code",
      "metadata": {
        "id": "EYjFVzCccse7",
        "colab_type": "code",
        "colab": {
          "base_uri": "https://localhost:8080/",
          "height": 52
        },
        "outputId": "220cbf7e-e44b-46dd-887b-037df75be8d7"
      },
      "source": [
        "\"Date Validation\"\n",
        "\n",
        "date_string = input(\"Enter the date : \")\n",
        "print(date_string)"
      ],
      "execution_count": 26,
      "outputs": [
        {
          "output_type": "stream",
          "text": [
            "Enter the date : 12/09/2000\n",
            "12/09/2000\n"
          ],
          "name": "stdout"
        }
      ]
    },
    {
      "cell_type": "code",
      "metadata": {
        "id": "AAQeX6l-j67L",
        "colab_type": "code",
        "colab": {
          "base_uri": "https://localhost:8080/",
          "height": 87
        },
        "outputId": "bb44056c-494f-4644-e8a9-1883df2917cb"
      },
      "source": [
        "split = input(\"Enter the split variable\")\n",
        "date_string = input(\"Enter the date : \")\n",
        "\n",
        "date_var = date_string.split(split)\n",
        "\n",
        "day_str = \"\"\n",
        "month_str = \"\"\n",
        "year_str = \"\"\n",
        "\n",
        "\n",
        "\n",
        "#if int(date_var[0]) >0 and int(date_var[0]) < 31:\n",
        "# day = \"valid\"\n",
        "#  print(\"day valid\")\n",
        "\n",
        "day = int(date_var[0])\n",
        "month = int(date_var[1])\n",
        "year= int(date_var[2])\n",
        "\n",
        "if (day % day ==0 and month % month == 0):\n",
        "  if int(month) in [1,3,5,7,8,10,12]:\n",
        "    month_str = \"valid\"\n",
        "    if int(day) >0 and int(day) < 32:\n",
        "      day_str = \"valid\"\n",
        "      \n",
        "if (day % day ==0) and (month % month == 0):\n",
        "  if int(month) in [4,6,9,11]:\n",
        "    month_str = \"valid\"\n",
        "    if int(day) >0 and int(day) < 31:\n",
        "      day = \"valid\"\n",
        "\n",
        "\n",
        "if year % year ==0:\n",
        "  year_str = \"valid\"\n",
        "  \n",
        "  if int(month) in [2]:\n",
        "  # Leap Year Code Here\n",
        "    if(year % 4) == 0:\n",
        "      if(year % 100) == 0:\n",
        "        if(year % 400) == 0:\n",
        "          #Leap\n",
        "          if int(day) >0 and int(day) < 30:\n",
        "            month_str = \"valid\"\n",
        "            day_str = \"valid\"\n",
        "        else:\n",
        "          if int(day) >0 and int(day) < 30:\n",
        "            day_str = \"valid\"\n",
        "            month_str = \"valid\"\n",
        "      else:\n",
        "       if int(day) >0 and int(day) < 30:\n",
        "          day_str = \"valid\"\n",
        "          month_str = \"valid\"\n",
        "    else:\n",
        "      if int(day) >0 and int(day) < 29:\n",
        "        day_str = \"not valid\"\n",
        "\n",
        "  \n",
        "print(\"day-\", day_str , \"month -\",month_str ,\"year -\", year_str)\n",
        "\n",
        "## Final Checks :\n",
        "if (day_str == \"valid\" and month_str == \"valid\" and year_str == \"valid\"):\n",
        "  print(\"Date is a valid date\")\n",
        "else:\n",
        "  print(\"NOT A VALID DATE\")\n"
      ],
      "execution_count": 102,
      "outputs": [
        {
          "output_type": "stream",
          "text": [
            "Enter the split variable/\n",
            "Enter the date : 12/12/2000\n",
            "day- valid month - valid year - valid\n",
            "Date is a valid date\n"
          ],
          "name": "stdout"
        }
      ]
    },
    {
      "cell_type": "code",
      "metadata": {
        "id": "41xTLFvv-d8j",
        "colab_type": "code",
        "colab": {
          "base_uri": "https://localhost:8080/",
          "height": 55
        },
        "outputId": "561d7f65-71eb-4af8-9fa7-68b0e5ccab18"
      },
      "source": [
        "## Assignment 1.1 ##\n",
        "\n",
        "answer_lst = \"\"\n",
        "\n",
        "for element in range(2000,3200):\n",
        "  if element % 7 == 0:\n",
        "    if element % 5 != 0:\n",
        "      answer_lst=(answer_lst +\", \"+str(element))\n",
        "\n",
        "print(answer_lst)\n"
      ],
      "execution_count": 106,
      "outputs": [
        {
          "output_type": "stream",
          "text": [
            ", 2002, 2009, 2016, 2023, 2037, 2044, 2051, 2058, 2072, 2079, 2086, 2093, 2107, 2114, 2121, 2128, 2142, 2149, 2156, 2163, 2177, 2184, 2191, 2198, 2212, 2219, 2226, 2233, 2247, 2254, 2261, 2268, 2282, 2289, 2296, 2303, 2317, 2324, 2331, 2338, 2352, 2359, 2366, 2373, 2387, 2394, 2401, 2408, 2422, 2429, 2436, 2443, 2457, 2464, 2471, 2478, 2492, 2499, 2506, 2513, 2527, 2534, 2541, 2548, 2562, 2569, 2576, 2583, 2597, 2604, 2611, 2618, 2632, 2639, 2646, 2653, 2667, 2674, 2681, 2688, 2702, 2709, 2716, 2723, 2737, 2744, 2751, 2758, 2772, 2779, 2786, 2793, 2807, 2814, 2821, 2828, 2842, 2849, 2856, 2863, 2877, 2884, 2891, 2898, 2912, 2919, 2926, 2933, 2947, 2954, 2961, 2968, 2982, 2989, 2996, 3003, 3017, 3024, 3031, 3038, 3052, 3059, 3066, 3073, 3087, 3094, 3101, 3108, 3122, 3129, 3136, 3143, 3157, 3164, 3171, 3178, 3192, 3199\n"
          ],
          "name": "stdout"
        }
      ]
    },
    {
      "cell_type": "code",
      "metadata": {
        "id": "nNc941UlFFLS",
        "colab_type": "code",
        "colab": {
          "base_uri": "https://localhost:8080/",
          "height": 69
        },
        "outputId": "fe0a51cc-e405-4b22-de81-bbb148bed214"
      },
      "source": [
        "## Assignment 1.2\n",
        "\n",
        "\n",
        "def reverse_string(name):\n",
        "  strr = \"\"\n",
        "  dummy = list(name)\n",
        "  for element in reversed(dummy):\n",
        "    strr = strr + element\n",
        "  return strr\n",
        "\n",
        "first_name = input(\"Insert the first name of the person\")\n",
        "last_name = input(\"Insert the last name of the person\")\n",
        "\n",
        "print(reverse_string(first_name) + \" \" + reverse_string(last_name))\n"
      ],
      "execution_count": 101,
      "outputs": [
        {
          "output_type": "stream",
          "text": [
            "Insert the first name of the personAbhi\n",
            "Insert the last name of the personSalvi\n",
            "ihbA ivlaS\n"
          ],
          "name": "stdout"
        }
      ]
    },
    {
      "cell_type": "code",
      "metadata": {
        "id": "70vigHCWG-5c",
        "colab_type": "code",
        "colab": {
          "base_uri": "https://localhost:8080/",
          "height": 35
        },
        "outputId": "751ec056-14ee-4906-943b-cb3ed7fa81ae"
      },
      "source": [
        "## Assignment 1.3\n",
        "\n",
        "def vol_of_sphere(radius):\n",
        "  pi = 3.14\n",
        "  return((4/3)*pi*radius*radius*radius)\n",
        "\n",
        "print(vol_of_sphere(12))\n"
      ],
      "execution_count": 103,
      "outputs": [
        {
          "output_type": "stream",
          "text": [
            "7234.559999999999\n"
          ],
          "name": "stdout"
        }
      ]
    },
    {
      "cell_type": "code",
      "metadata": {
        "id": "j_43bu5rJxkl",
        "colab_type": "code",
        "colab": {
          "base_uri": "https://localhost:8080/",
          "height": 35
        },
        "outputId": "f943cc4d-dc77-4be5-f255-9bac96039020"
      },
      "source": [
        "s = \"Hello World\"\n",
        "s[:-1]\n",
        "s[::1]"
      ],
      "execution_count": 115,
      "outputs": [
        {
          "output_type": "execute_result",
          "data": {
            "text/plain": [
              "'Hello World'"
            ]
          },
          "metadata": {
            "tags": []
          },
          "execution_count": 115
        }
      ]
    },
    {
      "cell_type": "code",
      "metadata": {
        "id": "uvGH29k6QP3F",
        "colab_type": "code",
        "colab": {
          "base_uri": "https://localhost:8080/",
          "height": 35
        },
        "outputId": "7a030f30-fd98-44d4-8e6b-3911846d6794"
      },
      "source": [
        "s[::-1]"
      ],
      "execution_count": 118,
      "outputs": [
        {
          "output_type": "execute_result",
          "data": {
            "text/plain": [
              "'dlroW olleH'"
            ]
          },
          "metadata": {
            "tags": []
          },
          "execution_count": 118
        }
      ]
    },
    {
      "cell_type": "code",
      "metadata": {
        "id": "_sqSlD-cQqaZ",
        "colab_type": "code",
        "colab": {}
      },
      "source": [
        ""
      ],
      "execution_count": 0,
      "outputs": []
    }
  ]
}